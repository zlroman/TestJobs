{
 "cells": [
  {
   "cell_type": "code",
   "execution_count": 53,
   "metadata": {},
   "outputs": [
    {
     "name": "stdout",
     "output_type": "stream",
     "text": [
      "CTR первого баннера равен - 0.000983 %, второго - 4e-05 %\n",
      "разница: 24.0\n",
      "среднее CTR: 0.0005115\n",
      "среднее CTR больше опр. уровня: True\n"
     ]
    }
   ],
   "source": [
    "banner1_shows = 1e6\n",
    "banner2_shows = 1e5\n",
    "banner1_clicks = 983\n",
    "banner2_clicks = 4\n",
    "ctr1 = banner1_clicks / banner1_shows\n",
    "ctr2 = banner2_clicks / banner2_shows\n",
    "print('CTR первого баннера равен -', ctr1, '%, второго -', ctr2, '%')\n",
    "\n",
    "ctr_diff = ctr1//ctr2\n",
    "print('разница:', ctr_diff)\n",
    "\n",
    "ctr_avg = (ctr1+ctr2)/2\n",
    "ctr_lvl = 0.0005\n",
    "print('среднее CTR:', ctr_avg)\n",
    "\n",
    "is_ctr_grtr_lvl = ctr_avg > ctr_lvl  \n",
    "print('среднее CTR больше опр. уровня:', is_ctr_grtr_lvl) "
   ]
  },
  {
   "cell_type": "code",
   "execution_count": 11,
   "metadata": {},
   "outputs": [
    {
     "data": {
      "text/plain": [
       "float"
      ]
     },
     "execution_count": 11,
     "metadata": {},
     "output_type": "execute_result"
    }
   ],
   "source": [
    "type( banner1_shows )"
   ]
  },
  {
   "cell_type": "code",
   "execution_count": 13,
   "metadata": {},
   "outputs": [
    {
     "data": {
      "text/plain": [
       "int"
      ]
     },
     "execution_count": 13,
     "metadata": {},
     "output_type": "execute_result"
    }
   ],
   "source": [
    "type( banner1_clicks )"
   ]
  },
  {
   "cell_type": "code",
   "execution_count": 16,
   "metadata": {},
   "outputs": [
    {
     "data": {
      "text/plain": [
       "float"
      ]
     },
     "execution_count": 16,
     "metadata": {},
     "output_type": "execute_result"
    }
   ],
   "source": [
    "type( ctr1 )"
   ]
  },
  {
   "cell_type": "code",
   "execution_count": 18,
   "metadata": {},
   "outputs": [
    {
     "data": {
      "text/plain": [
       "1.4142135623730951"
      ]
     },
     "execution_count": 18,
     "metadata": {},
     "output_type": "execute_result"
    }
   ],
   "source": [
    "2**(1/2)"
   ]
  },
  {
   "cell_type": "code",
   "execution_count": 23,
   "metadata": {},
   "outputs": [
    {
     "name": "stdout",
     "output_type": "stream",
     "text": [
      "Что такое Питон? Python my love\n"
     ]
    }
   ],
   "source": [
    "projectName = 'Python my love'\n",
    "print( 'Что такое Питон? ' + projectName )"
   ]
  },
  {
   "cell_type": "code",
   "execution_count": 42,
   "metadata": {},
   "outputs": [
    {
     "name": "stdout",
     "output_type": "stream",
     "text": [
      "Результаты первой кампании: показов 1000000, кликов 983, CTR 0.098%\n"
     ]
    }
   ],
   "source": [
    "print( 'Результаты первой кампании: показов {:.0f}, кликов {}, CTR {:.3%}'.format( banner1_shows, banner1_clicks, ctr1 ) )"
   ]
  },
  {
   "cell_type": "code",
   "execution_count": 43,
   "metadata": {
    "scrolled": true
   },
   "outputs": [
    {
     "name": "stdout",
     "output_type": "stream",
     "text": [
      "CTR первой - 0.0983%, второй - 0.0040%\n"
     ]
    }
   ],
   "source": [
    "print('CTR первой - {:.4%}, второй - {:.4%}'.format(ctr1, ctr2))"
   ]
  },
  {
   "cell_type": "code",
   "execution_count": 58,
   "metadata": {},
   "outputs": [
    {
     "data": {
      "text/plain": [
       "False"
      ]
     },
     "execution_count": 58,
     "metadata": {},
     "output_type": "execute_result"
    }
   ],
   "source": [
    "a = 1\n",
    "b = 2\n",
    "\n",
    "a == b"
   ]
  },
  {
   "cell_type": "code",
   "execution_count": 59,
   "metadata": {},
   "outputs": [
    {
     "data": {
      "text/plain": [
       "True"
      ]
     },
     "execution_count": 59,
     "metadata": {},
     "output_type": "execute_result"
    }
   ],
   "source": [
    "a<=b"
   ]
  },
  {
   "cell_type": "code",
   "execution_count": 60,
   "metadata": {},
   "outputs": [
    {
     "data": {
      "text/plain": [
       "True"
      ]
     },
     "execution_count": 60,
     "metadata": {},
     "output_type": "execute_result"
    }
   ],
   "source": [
    "ctr1 > ctr2"
   ]
  }
 ],
 "metadata": {
  "kernelspec": {
   "display_name": "Python 3",
   "language": "python",
   "name": "python3"
  },
  "language_info": {
   "codemirror_mode": {
    "name": "ipython",
    "version": 3
   },
   "file_extension": ".py",
   "mimetype": "text/x-python",
   "name": "python",
   "nbconvert_exporter": "python",
   "pygments_lexer": "ipython3",
   "version": "3.8.3"
  }
 },
 "nbformat": 4,
 "nbformat_minor": 4
}
