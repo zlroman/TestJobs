{
 "cells": [
  {
   "cell_type": "code",
   "execution_count": 2,
   "metadata": {},
   "outputs": [],
   "source": [
    "numArray = range(1,1000000)"
   ]
  },
  {
   "cell_type": "code",
   "execution_count": 3,
   "metadata": {},
   "outputs": [
    {
     "data": {
      "text/plain": [
       "range(1, 1000000)"
      ]
     },
     "execution_count": 3,
     "metadata": {},
     "output_type": "execute_result"
    }
   ],
   "source": [
    "numArray"
   ]
  },
  {
   "cell_type": "code",
   "execution_count": 15,
   "metadata": {},
   "outputs": [
    {
     "name": "stdout",
     "output_type": "stream",
     "text": [
      "0\n",
      "1\n",
      "2\n",
      "3\n",
      "4\n",
      "5\n",
      "6\n",
      "7\n",
      "8\n",
      "9\n"
     ]
    }
   ],
   "source": [
    "for i in range(10):\n",
    "    print( i )"
   ]
  },
  {
   "cell_type": "markdown",
   "metadata": {},
   "source": [
    "Какое значение будет на 2-м месте?"
   ]
  },
  {
   "cell_type": "markdown",
   "metadata": {},
   "source": [
    "1"
   ]
  },
  {
   "cell_type": "code",
   "execution_count": 18,
   "metadata": {},
   "outputs": [
    {
     "name": "stdout",
     "output_type": "stream",
     "text": [
      "0\n",
      "1\n",
      "4\n",
      "9\n",
      "16\n",
      "25\n",
      "36\n",
      "49\n",
      "64\n",
      "81\n"
     ]
    }
   ],
   "source": [
    "for i in range(10):\n",
    "  print( i**2 )"
   ]
  },
  {
   "cell_type": "code",
   "execution_count": 19,
   "metadata": {},
   "outputs": [
    {
     "name": "stdout",
     "output_type": "stream",
     "text": [
      "Сегодня пн\n",
      "Сегодня вт\n",
      "Сегодня ср\n",
      "Сегодня чт\n",
      "Сегодня пт\n",
      "Сегодня сб\n",
      "Сегодня вс\n"
     ]
    }
   ],
   "source": [
    "weekDays = ['пн', 'вт','ср','чт','пт','сб','вс']\n",
    "\n",
    "for day in weekDays:\n",
    "    print('Сегодня', day)"
   ]
  },
  {
   "cell_type": "code",
   "execution_count": 21,
   "metadata": {},
   "outputs": [],
   "source": [
    "minValue = 4\n",
    "maxValue = 18"
   ]
  },
  {
   "cell_type": "code",
   "execution_count": 22,
   "metadata": {},
   "outputs": [
    {
     "data": {
      "text/plain": [
       "range(100, 200)"
      ]
     },
     "execution_count": 22,
     "metadata": {},
     "output_type": "execute_result"
    }
   ],
   "source": [
    "range(100, 200)"
   ]
  },
  {
   "cell_type": "code",
   "execution_count": 24,
   "metadata": {},
   "outputs": [],
   "source": [
    "numlist = range(minValue, maxValue)"
   ]
  },
  {
   "cell_type": "code",
   "execution_count": 27,
   "metadata": {},
   "outputs": [],
   "source": [
    "lst = []\n",
    "for i in range(minValue, maxValue, 2):\n",
    "  lst.append(i**(1/2))"
   ]
  },
  {
   "cell_type": "code",
   "execution_count": 28,
   "metadata": {},
   "outputs": [
    {
     "data": {
      "text/plain": [
       "[2.0,\n",
       " 2.449489742783178,\n",
       " 2.8284271247461903,\n",
       " 3.1622776601683795,\n",
       " 3.4641016151377544,\n",
       " 3.7416573867739413,\n",
       " 4.0]"
      ]
     },
     "execution_count": 28,
     "metadata": {},
     "output_type": "execute_result"
    }
   ],
   "source": [
    "lst"
   ]
  },
  {
   "cell_type": "markdown",
   "metadata": {},
   "source": [
    "Какое значение будет предпоследним?"
   ]
  },
  {
   "cell_type": "code",
   "execution_count": 32,
   "metadata": {},
   "outputs": [
    {
     "data": {
      "text/plain": [
       "3.7416573867739413"
      ]
     },
     "execution_count": 32,
     "metadata": {},
     "output_type": "execute_result"
    }
   ],
   "source": [
    "lst[len(lst)-2]"
   ]
  },
  {
   "cell_type": "code",
   "execution_count": 33,
   "metadata": {},
   "outputs": [],
   "source": [
    "directRevenue = [83171,151604, 46315, 98753, 208648, 184682,\n",
    "204061,134911,94791,109076,37254, 224991,36400,149320, 171336, 83854,\n",
    "206799,180922, 235647, 217546, 200478, 239445, 144901,\n",
    "26522,177971,148458,154937,196095,140202,189223]"
   ]
  },
  {
   "cell_type": "code",
   "execution_count": 35,
   "metadata": {},
   "outputs": [],
   "source": [
    "week_1_revenue = directRevenue[0:6]"
   ]
  },
  {
   "cell_type": "code",
   "execution_count": 39,
   "metadata": {},
   "outputs": [
    {
     "name": "stdout",
     "output_type": "stream",
     "text": [
      "текущее значение = 83171; сумма = 83171\n",
      "текущее значение = 151604; сумма = 234775\n",
      "текущее значение = 46315; сумма = 281090\n",
      "текущее значение = 98753; сумма = 379843\n",
      "текущее значение = 208648; сумма = 588491\n",
      "текущее значение = 184682; сумма = 773173\n"
     ]
    },
    {
     "data": {
      "text/plain": [
       "773173"
      ]
     },
     "execution_count": 39,
     "metadata": {},
     "output_type": "execute_result"
    }
   ],
   "source": [
    "total_revenue = 0\n",
    "for day in week_1_revenue:\n",
    "    total_revenue+=day\n",
    "    print('текущее значение = {}; сумма = {}'.format(day, total_revenue))\n",
    "total_revenue"
   ]
  },
  {
   "cell_type": "markdown",
   "metadata": {},
   "source": [
    "Какая промежуточная сумма на 4 шаге цикла?"
   ]
  },
  {
   "cell_type": "markdown",
   "metadata": {},
   "source": [
    "текущее значение = 98753; сумма = 379843"
   ]
  },
  {
   "cell_type": "code",
   "execution_count": 41,
   "metadata": {},
   "outputs": [],
   "source": [
    "queriesText = 'смотреть сериалы онлайн;новости спорта;афиша кино;курс доллара;сериалы этим летом;курс по питону;сериалы про спорт'"
   ]
  },
  {
   "cell_type": "code",
   "execution_count": 42,
   "metadata": {},
   "outputs": [],
   "source": [
    "lst = queriesText.split(\";\")"
   ]
  },
  {
   "cell_type": "code",
   "execution_count": 43,
   "metadata": {},
   "outputs": [
    {
     "data": {
      "text/plain": [
       "18"
      ]
     },
     "execution_count": 43,
     "metadata": {},
     "output_type": "execute_result"
    }
   ],
   "source": [
    "total_words = 0\n",
    "for sentence in lst:\n",
    "    words = sentence.split(\" \")\n",
    "    total_words += len(words)\n",
    "\n",
    "total_words\n",
    "    "
   ]
  },
  {
   "cell_type": "code",
   "execution_count": 45,
   "metadata": {},
   "outputs": [
    {
     "name": "stdout",
     "output_type": "stream",
     "text": [
      "\"одеяло по дешевке\" нет в списке\n"
     ]
    }
   ],
   "source": [
    "semantic_list = ['одеяло !купить', 'одеяло !продажа','одеяло цена', 'одеяло стоимость',\n",
    "                 'одеяло прайс','одеяло дешево', 'одеяло недорого','одеяло заказать','одеяло на заказ', \n",
    "                 'одеяло с доставкой', 'одеяло магазин','одеяло интернет магазин', 'одеяло со скидкой',\n",
    "                 'одеяло акция','одеяло распродажа']\n",
    "\n",
    "string_to_find = 'одеяло по дешевке'\n",
    "if string_to_find in semantic_list:\n",
    "    print('\"{}\" есть в списке'.format(string_to_find))\n",
    "else:\n",
    "    print('\"{}\" нет в списке'.format(string_to_find))\n"
   ]
  },
  {
   "cell_type": "code",
   "execution_count": 46,
   "metadata": {},
   "outputs": [
    {
     "name": "stdout",
     "output_type": "stream",
     "text": [
      "В этом тексте есть упоминание \"Монти\"\n"
     ]
    }
   ],
   "source": [
    "text = 'Название языка питон произошло вовсе не от вида пресмыкающихся. Автор назвал язык в честь популярного британского комедийного телешоу 1970-х Летающий цирк Монти Пайтона'\n",
    "name_to_find = 'Монти'\n",
    "\n",
    "if name_to_find in text:\n",
    "    print('В этом тексте есть упоминание \"{}\"'.format(name_to_find)) "
   ]
  },
  {
   "cell_type": "markdown",
   "metadata": {},
   "source": [
    "## Домашнее задание"
   ]
  },
  {
   "cell_type": "code",
   "execution_count": 1,
   "metadata": {},
   "outputs": [],
   "source": [
    "queries = \"смотреть сериалы онлайн,новости спорта,афиша кино,курс доллара,сериалы этим летом,курс по питону,сериалы про спорт\""
   ]
  },
  {
   "cell_type": "code",
   "execution_count": 2,
   "metadata": {},
   "outputs": [],
   "source": [
    "words = ['сериалы', 'курс']"
   ]
  },
  {
   "cell_type": "code",
   "execution_count": 5,
   "metadata": {},
   "outputs": [],
   "source": [
    "lst_result = []\n",
    "lst_queries = queries.split(\",\")"
   ]
  },
  {
   "cell_type": "code",
   "execution_count": 8,
   "metadata": {},
   "outputs": [
    {
     "data": {
      "text/plain": [
       "['смотреть сериалы онлайн',\n",
       " 'курс доллара',\n",
       " 'сериалы этим летом',\n",
       " 'курс по питону',\n",
       " 'сериалы про спорт']"
      ]
     },
     "execution_count": 8,
     "metadata": {},
     "output_type": "execute_result"
    }
   ],
   "source": [
    "for query in lst_queries:\n",
    "    for word in words:\n",
    "        if word in query:\n",
    "            lst_result.append(query)\n",
    "\n",
    "lst_result\n",
    "    "
   ]
  },
  {
   "cell_type": "markdown",
   "metadata": {},
   "source": [
    "## Дополнительные задачи (продвинутый уровень)."
   ]
  },
  {
   "cell_type": "markdown",
   "metadata": {},
   "source": [
    "#### 1"
   ]
  },
  {
   "cell_type": "code",
   "execution_count": 6,
   "metadata": {},
   "outputs": [
    {
     "name": "stdout",
     "output_type": "stream",
     "text": [
      "2\n",
      "Введено значение:  2\n",
      "3\n",
      "Введено значение:  3\n",
      "5\n",
      "Введено значение:  5\n",
      "3\n",
      "Введено значение:  3\n",
      "6\n",
      "Введено значение:  6\n",
      "0\n",
      "Введено значение:  0\n",
      "Итоговый результат:  19\n"
     ]
    }
   ],
   "source": [
    "res = 0\n",
    "inp = -1\n",
    "while inp != 0:\n",
    "    inp = int(input())\n",
    "    print(\"Введено значение: \", inp)\n",
    "    res += inp\n",
    "print(\"Итоговый результат: \", res)"
   ]
  },
  {
   "cell_type": "markdown",
   "metadata": {},
   "source": [
    "#### 2"
   ]
  },
  {
   "cell_type": "code",
   "execution_count": 10,
   "metadata": {},
   "outputs": [
    {
     "name": "stdout",
     "output_type": "stream",
     "text": [
      "0\n",
      "1\n",
      "2\n",
      "3\n",
      "56\n",
      "Введено значение:  56\n",
      "67\n",
      "Введено значение:  67\n",
      "11\n",
      "Введено значение:  11\n",
      "10\n",
      "99\n",
      "Введено значение:  99\n",
      "100\n",
      "Введено значение:  100\n",
      "101\n"
     ]
    }
   ],
   "source": [
    "while 'true':\n",
    "    inp = int(input())\n",
    "    if inp > 100:\n",
    "        break\n",
    "    elif inp > 10:\n",
    "        print(\"Введено значение: \", inp)"
   ]
  },
  {
   "cell_type": "markdown",
   "metadata": {},
   "source": [
    "#### 3"
   ]
  },
  {
   "cell_type": "code",
   "execution_count": 7,
   "metadata": {},
   "outputs": [
    {
     "name": "stdout",
     "output_type": "stream",
     "text": [
      "Отсутсвует\n"
     ]
    }
   ],
   "source": [
    "str1 = '1,23,4,25,6,7,7,4,53,4,6,3'\n",
    "str2 = '5'\n",
    "lst_num = str1.split(',')\n",
    "\n",
    "idx = []\n",
    "i = 0\n",
    "for elem in lst_num:\n",
    "    if elem == str2:   \n",
    "        idx.append(i)\n",
    "    i = i + 1\n",
    "\n",
    "if len(idx) == 0:\n",
    "    print('Отсутсвует')\n",
    "else:\n",
    "    print(idx)\n"
   ]
  },
  {
   "cell_type": "code",
   "execution_count": null,
   "metadata": {},
   "outputs": [],
   "source": []
  }
 ],
 "metadata": {
  "kernelspec": {
   "display_name": "Python 3",
   "language": "python",
   "name": "python3"
  },
  "language_info": {
   "codemirror_mode": {
    "name": "ipython",
    "version": 3
   },
   "file_extension": ".py",
   "mimetype": "text/x-python",
   "name": "python",
   "nbconvert_exporter": "python",
   "pygments_lexer": "ipython3",
   "version": "3.8.3"
  }
 },
 "nbformat": 4,
 "nbformat_minor": 4
}
